{
  "nbformat": 4,
  "nbformat_minor": 0,
  "metadata": {
    "colab": {
      "name": "retinanet_object_detector_stanford_drone_satellite_images.ipynb",
      "provenance": [],
      "collapsed_sections": [],
      "toc_visible": true,
      "include_colab_link": true
    },
    "kernelspec": {
      "name": "python3",
      "display_name": "Python 3"
    },
    "accelerator": "GPU"
  },
  "cells": [
    {
      "cell_type": "markdown",
      "metadata": {
        "id": "view-in-github",
        "colab_type": "text"
      },
      "source": [
        "<a href=\"https://colab.research.google.com/github/Max-FM/IAA-Social-Distancing/blob/master/retinanet_object_detector_stanford_drone_satellite_images.ipynb\" target=\"_parent\"><img src=\"https://colab.research.google.com/assets/colab-badge.svg\" alt=\"Open In Colab\"/></a>"
      ]
    },
    {
      "cell_type": "markdown",
      "metadata": {
        "id": "fuEPIyy_WJmK",
        "colab_type": "text"
      },
      "source": [
        "#Detecting Pedestrians in Satellite Images\n",
        "\n",
        "Refer to [this](https://towardsdatascience.com/pedestrian-detection-in-aerial-images-using-retinanet-9053e8a72c6) article for the required data to run this notebook.\n",
        "\n",
        "This notebook was adapted from [this](https://medium.com/@ije_good/object-detection-on-satellite-imagery-using-retinanet-part-1-training-e589975afbd5) article.\n",
        "\n",
        "**Warning:** For some unknown reason the prediction/detection function has stopped working properly (likely due to a package update). Feel free to use this notebook as a template but it may no longer work properly out of the box.\n",
        "\n",
        "**Disclaimer:** Satellite images are not publicly available in the GitHub repository in order to avoid potential legal issues. The images used in this notebook are available internally to other researchers at the University of Portsmouth [here](https://drive.google.com/drive/folders/1px4AYAmkRHoC3Zic3fnMykueWyFkhSK3?usp=sharing). Access is restricted to external persons and all external access requests will be denied. Should the user wish to acquire the images themselves, the corresponding shapefiles are publicly available in the repository. I suggest uploading the images to Google Drive and mounting using the cell below."
      ]
    },
    {
      "cell_type": "code",
      "metadata": {
        "id": "Anof_o4wAfhT",
        "colab_type": "code",
        "colab": {}
      },
      "source": [
        "%tensorflow_version 1.x"
      ],
      "execution_count": null,
      "outputs": []
    },
    {
      "cell_type": "code",
      "metadata": {
        "id": "C7Ru-VVvQxcM",
        "colab_type": "code",
        "colab": {
          "base_uri": "https://localhost:8080/",
          "height": 52
        },
        "outputId": "f827419a-d05a-4c6f-e198-5bbbe233e6ad"
      },
      "source": [
        "#Edit filepaths as required.\n",
        "\n",
        "base_dir = '/content'\n",
        "drive_dir = '/content/drive/My Drive/Social Distancing Project'\n",
        "sat_dir = f'{drive_dir}/Satellite Images/DigitalGlobe (Samples)'\n",
        "drone_dir = f'{drive_dir}/Object Detection/Stanford Drone Subset'\n",
        "repo_dir = f'{base_dir}/keras-retinanet' \n",
        "\n",
        "label_dir = f'{drone_dir}/labels.csv'\n",
        "test_img_dir = f'{sat_dir}/Tripoli/Tripoli_Map-Ready_Ortho_30cm/055675519050/055675519050_01_P001_MUL/JPEG/'"
      ],
      "execution_count": null,
      "outputs": [
        {
          "output_type": "execute_result",
          "data": {
            "application/vnd.google.colaboratory.intrinsic+json": {
              "type": "string"
            },
            "text/plain": [
              "'/content/drive/My Drive/Social Distancing Project/Satellite Images/DigitalGlobe (Samples)/Tripoli/Tripoli_Map-Ready_Ortho_30cm/055675519050/055675519050_01_P001_MUL/JPEG/'"
            ]
          },
          "metadata": {
            "tags": []
          },
          "execution_count": 34
        }
      ]
    },
    {
      "cell_type": "markdown",
      "metadata": {
        "id": "Tq-MLdOOFWR5",
        "colab_type": "text"
      },
      "source": [
        "###Mount Google Drive"
      ]
    },
    {
      "cell_type": "code",
      "metadata": {
        "id": "Gkpz7dSAFWni",
        "colab_type": "code",
        "colab": {
          "base_uri": "https://localhost:8080/",
          "height": 54
        },
        "outputId": "c37809f1-074f-46a7-9e39-911829b0680f"
      },
      "source": [
        "from google.colab import drive\n",
        "drive.mount('/content/drive')"
      ],
      "execution_count": null,
      "outputs": [
        {
          "output_type": "stream",
          "text": [
            "Drive already mounted at /content/drive; to attempt to forcibly remount, call drive.mount(\"/content/drive\", force_remount=True).\n"
          ],
          "name": "stdout"
        }
      ]
    },
    {
      "cell_type": "markdown",
      "metadata": {
        "id": "TzzSeBY7VSGg",
        "colab_type": "text"
      },
      "source": [
        "## Clone Keras Retinanet Repo"
      ]
    },
    {
      "cell_type": "code",
      "metadata": {
        "id": "nnmTHnOJhbaP",
        "colab_type": "code",
        "colab": {
          "base_uri": "https://localhost:8080/",
          "height": 34
        },
        "outputId": "70808a53-ac41-4fb3-d21d-354dfa328a0d"
      },
      "source": [
        "repo_url = 'https://github.com/fizyr/keras-retinanet'\n",
        "\n",
        "!git clone '{repo_url}' # clone repo"
      ],
      "execution_count": null,
      "outputs": [
        {
          "output_type": "stream",
          "text": [
            "fatal: destination path 'keras-retinanet' already exists and is not an empty directory.\n"
          ],
          "name": "stdout"
        }
      ]
    },
    {
      "cell_type": "code",
      "metadata": {
        "id": "iuxoUfRAioHG",
        "colab_type": "code",
        "colab": {
          "base_uri": "https://localhost:8080/",
          "height": 547
        },
        "outputId": "8daa3d44-6a05-45f9-c6eb-364e26a5027c"
      },
      "source": [
        "# from /content/keras-retinanet\n",
        "%cd '{repo_dir}'\n",
        "!pip install .\n",
        "!python setup.py build_ext --inplace\n",
        "\n",
        "%cd .."
      ],
      "execution_count": null,
      "outputs": [
        {
          "output_type": "stream",
          "text": [
            "/content/keras-retinanet\n",
            "Processing /content/keras-retinanet\n",
            "Requirement already satisfied: keras in /tensorflow-1.15.2/python3.6 (from keras-retinanet==0.5.1) (2.3.1)\n",
            "Requirement already satisfied: keras-resnet==0.2.0 in /usr/local/lib/python3.6/dist-packages (from keras-retinanet==0.5.1) (0.2.0)\n",
            "Requirement already satisfied: six in /usr/local/lib/python3.6/dist-packages (from keras-retinanet==0.5.1) (1.15.0)\n",
            "Requirement already satisfied: scipy in /usr/local/lib/python3.6/dist-packages (from keras-retinanet==0.5.1) (1.4.1)\n",
            "Requirement already satisfied: cython in /usr/local/lib/python3.6/dist-packages (from keras-retinanet==0.5.1) (0.29.21)\n",
            "Requirement already satisfied: Pillow in /usr/local/lib/python3.6/dist-packages (from keras-retinanet==0.5.1) (7.0.0)\n",
            "Requirement already satisfied: opencv-python in /usr/local/lib/python3.6/dist-packages (from keras-retinanet==0.5.1) (4.1.2.30)\n",
            "Requirement already satisfied: progressbar2 in /usr/local/lib/python3.6/dist-packages (from keras-retinanet==0.5.1) (3.38.0)\n",
            "Requirement already satisfied: pyyaml in /usr/local/lib/python3.6/dist-packages (from keras->keras-retinanet==0.5.1) (3.13)\n",
            "Requirement already satisfied: keras-preprocessing>=1.0.5 in /usr/local/lib/python3.6/dist-packages (from keras->keras-retinanet==0.5.1) (1.1.2)\n",
            "Requirement already satisfied: numpy>=1.9.1 in /usr/local/lib/python3.6/dist-packages (from keras->keras-retinanet==0.5.1) (1.18.5)\n",
            "Requirement already satisfied: keras-applications>=1.0.6 in /tensorflow-1.15.2/python3.6 (from keras->keras-retinanet==0.5.1) (1.0.8)\n",
            "Requirement already satisfied: h5py in /usr/local/lib/python3.6/dist-packages (from keras->keras-retinanet==0.5.1) (2.10.0)\n",
            "Requirement already satisfied: python-utils>=2.3.0 in /usr/local/lib/python3.6/dist-packages (from progressbar2->keras-retinanet==0.5.1) (2.4.0)\n",
            "Building wheels for collected packages: keras-retinanet\n",
            "  Building wheel for keras-retinanet (setup.py) ... \u001b[?25l\u001b[?25hdone\n",
            "  Created wheel for keras-retinanet: filename=keras_retinanet-0.5.1-cp36-cp36m-linux_x86_64.whl size=171477 sha256=1855e29a3da6fbf529932c63f4f727ae9d8047a554fe839680272053bf01c576\n",
            "  Stored in directory: /root/.cache/pip/wheels/b2/9f/57/cb0305f6f5a41fc3c11ad67b8cedfbe9127775b563337827ba\n",
            "Successfully built keras-retinanet\n",
            "Installing collected packages: keras-retinanet\n",
            "  Found existing installation: keras-retinanet 0.5.1\n",
            "    Uninstalling keras-retinanet-0.5.1:\n",
            "      Successfully uninstalled keras-retinanet-0.5.1\n",
            "Successfully installed keras-retinanet-0.5.1\n",
            "running build_ext\n",
            "skipping 'keras_retinanet/utils/compute_overlap.c' Cython extension (up-to-date)\n",
            "copying build/lib.linux-x86_64-3.6/keras_retinanet/utils/compute_overlap.cpython-36m-x86_64-linux-gnu.so -> keras_retinanet/utils\n",
            "/content\n"
          ],
          "name": "stdout"
        }
      ]
    },
    {
      "cell_type": "markdown",
      "metadata": {
        "id": "ULtUGb0TUXjW",
        "colab_type": "text"
      },
      "source": [
        "## Clone ije_retinanet Repo\n"
      ]
    },
    {
      "cell_type": "code",
      "metadata": {
        "id": "4zf61BdHBIQh",
        "colab_type": "code",
        "colab": {
          "base_uri": "https://localhost:8080/",
          "height": 34
        },
        "outputId": "6635f1b5-0785-48d4-b450-16981cd4b2e9"
      },
      "source": [
        "ije_repo_url = 'https://github.com/ijeism/ije_retinanet'\n",
        "ije_repo_dir = f'{base_dir}/ije_retinanet'\n",
        "\n",
        "!git clone '{ije_repo_url}' # clone repo"
      ],
      "execution_count": null,
      "outputs": [
        {
          "output_type": "stream",
          "text": [
            "fatal: destination path 'ije_retinanet' already exists and is not an empty directory.\n"
          ],
          "name": "stdout"
        }
      ]
    },
    {
      "cell_type": "markdown",
      "metadata": {
        "id": "m3sruQGh3pBP",
        "colab_type": "text"
      },
      "source": [
        "## Generating predictions from pretrained model"
      ]
    },
    {
      "cell_type": "code",
      "metadata": {
        "id": "rBluTiYfDow8",
        "colab_type": "code",
        "colab": {
          "base_uri": "https://localhost:8080/",
          "height": 54
        },
        "outputId": "d5841b5d-4344-4c5b-f176-3bf3f9dbddf6"
      },
      "source": [
        "inference_model = f'{drone_dir}/resnet50_csv_12_inference_priya.h5'\n",
        "out_dir = f'{test_img_dir}/output'\n",
        "\n",
        "# create output directory\n",
        "!mkdir '{out_dir}'"
      ],
      "execution_count": null,
      "outputs": [
        {
          "output_type": "stream",
          "text": [
            "mkdir: cannot create directory ‘/content/drive/My Drive/Social Distancing Project/Satellite Images/DigitalGlobe (Samples)/Tripoli/Tripoli_Map-Ready_Ortho_30cm/055675519050/055675519050_01_P001_MUL/JPEG//output’: File exists\n"
          ],
          "name": "stdout"
        }
      ]
    },
    {
      "cell_type": "code",
      "metadata": {
        "id": "_teYSHzIsICx",
        "colab_type": "code",
        "colab": {
          "base_uri": "https://localhost:8080/",
          "height": 1000
        },
        "outputId": "0a3ada1a-382c-466e-cf56-5ea19a4c48da"
      },
      "source": [
        "# generate prediction files\n",
        "!python '{base_dir}/ije_retinanet/image_inference_write.py' \\\n",
        "-i '{test_img_dir}' \\\n",
        "-t 0.6 \\\n",
        "-m '{inference_model}' \\\n",
        "-o  '{out_dir}' \\\n",
        "-l '{label_dir}'"
      ],
      "execution_count": null,
      "outputs": [
        {
          "output_type": "stream",
          "text": [
            "Using TensorFlow backend.\n",
            "WARNING:tensorflow:From /tensorflow-1.15.2/python3.6/tensorflow_core/python/ops/resource_variable_ops.py:1630: calling BaseResourceVariable.__init__ (from tensorflow.python.ops.resource_variable_ops) with constraint is deprecated and will be removed in a future version.\n",
            "Instructions for updating:\n",
            "If using Keras pass *_constraint arguments to layers.\n",
            "WARNING:tensorflow:From /tensorflow-1.15.2/python3.6/keras/backend/tensorflow_backend.py:4070: The name tf.nn.max_pool is deprecated. Please use tf.nn.max_pool2d instead.\n",
            "\n",
            "WARNING:tensorflow:From /usr/local/lib/python3.6/dist-packages/keras_retinanet/backend/tensorflow_backend.py:117: where (from tensorflow.python.ops.array_ops) is deprecated and will be removed in a future version.\n",
            "Instructions for updating:\n",
            "Use tf.where in 2.0, which has the same broadcast rule as np.where\n",
            "2020-09-01 13:14:18.733247: I tensorflow/stream_executor/platform/default/dso_loader.cc:44] Successfully opened dynamic library libcuda.so.1\n",
            "2020-09-01 13:14:18.751037: I tensorflow/stream_executor/cuda/cuda_gpu_executor.cc:983] successful NUMA node read from SysFS had negative value (-1), but there must be at least one NUMA node, so returning NUMA node zero\n",
            "2020-09-01 13:14:18.751808: I tensorflow/core/common_runtime/gpu/gpu_device.cc:1639] Found device 0 with properties: \n",
            "name: Tesla K80 major: 3 minor: 7 memoryClockRate(GHz): 0.8235\n",
            "pciBusID: 0000:00:04.0\n",
            "2020-09-01 13:14:18.752137: I tensorflow/stream_executor/platform/default/dso_loader.cc:44] Successfully opened dynamic library libcudart.so.10.1\n",
            "2020-09-01 13:14:18.754427: I tensorflow/stream_executor/platform/default/dso_loader.cc:44] Successfully opened dynamic library libcublas.so.10\n",
            "2020-09-01 13:14:18.756300: I tensorflow/stream_executor/platform/default/dso_loader.cc:44] Successfully opened dynamic library libcufft.so.10\n",
            "2020-09-01 13:14:18.756680: I tensorflow/stream_executor/platform/default/dso_loader.cc:44] Successfully opened dynamic library libcurand.so.10\n",
            "2020-09-01 13:14:18.759021: I tensorflow/stream_executor/platform/default/dso_loader.cc:44] Successfully opened dynamic library libcusolver.so.10\n",
            "2020-09-01 13:14:18.760415: I tensorflow/stream_executor/platform/default/dso_loader.cc:44] Successfully opened dynamic library libcusparse.so.10\n",
            "2020-09-01 13:14:18.765347: I tensorflow/stream_executor/platform/default/dso_loader.cc:44] Successfully opened dynamic library libcudnn.so.7\n",
            "2020-09-01 13:14:18.765517: I tensorflow/stream_executor/cuda/cuda_gpu_executor.cc:983] successful NUMA node read from SysFS had negative value (-1), but there must be at least one NUMA node, so returning NUMA node zero\n",
            "2020-09-01 13:14:18.766330: I tensorflow/stream_executor/cuda/cuda_gpu_executor.cc:983] successful NUMA node read from SysFS had negative value (-1), but there must be at least one NUMA node, so returning NUMA node zero\n",
            "2020-09-01 13:14:18.767118: I tensorflow/core/common_runtime/gpu/gpu_device.cc:1767] Adding visible gpu devices: 0\n",
            "2020-09-01 13:14:18.772805: I tensorflow/core/platform/profile_utils/cpu_utils.cc:94] CPU Frequency: 2300000000 Hz\n",
            "2020-09-01 13:14:18.773060: I tensorflow/compiler/xla/service/service.cc:168] XLA service 0xed9c300 initialized for platform Host (this does not guarantee that XLA will be used). Devices:\n",
            "2020-09-01 13:14:18.773114: I tensorflow/compiler/xla/service/service.cc:176]   StreamExecutor device (0): Host, Default Version\n",
            "2020-09-01 13:14:18.825833: I tensorflow/stream_executor/cuda/cuda_gpu_executor.cc:983] successful NUMA node read from SysFS had negative value (-1), but there must be at least one NUMA node, so returning NUMA node zero\n",
            "2020-09-01 13:14:18.826694: I tensorflow/compiler/xla/service/service.cc:168] XLA service 0xed9c4c0 initialized for platform CUDA (this does not guarantee that XLA will be used). Devices:\n",
            "2020-09-01 13:14:18.826734: I tensorflow/compiler/xla/service/service.cc:176]   StreamExecutor device (0): Tesla K80, Compute Capability 3.7\n",
            "2020-09-01 13:14:18.826974: I tensorflow/stream_executor/cuda/cuda_gpu_executor.cc:983] successful NUMA node read from SysFS had negative value (-1), but there must be at least one NUMA node, so returning NUMA node zero\n",
            "2020-09-01 13:14:18.827692: I tensorflow/core/common_runtime/gpu/gpu_device.cc:1639] Found device 0 with properties: \n",
            "name: Tesla K80 major: 3 minor: 7 memoryClockRate(GHz): 0.8235\n",
            "pciBusID: 0000:00:04.0\n",
            "2020-09-01 13:14:18.827773: I tensorflow/stream_executor/platform/default/dso_loader.cc:44] Successfully opened dynamic library libcudart.so.10.1\n",
            "2020-09-01 13:14:18.827815: I tensorflow/stream_executor/platform/default/dso_loader.cc:44] Successfully opened dynamic library libcublas.so.10\n",
            "2020-09-01 13:14:18.827863: I tensorflow/stream_executor/platform/default/dso_loader.cc:44] Successfully opened dynamic library libcufft.so.10\n",
            "2020-09-01 13:14:18.827903: I tensorflow/stream_executor/platform/default/dso_loader.cc:44] Successfully opened dynamic library libcurand.so.10\n",
            "2020-09-01 13:14:18.827947: I tensorflow/stream_executor/platform/default/dso_loader.cc:44] Successfully opened dynamic library libcusolver.so.10\n",
            "2020-09-01 13:14:18.827983: I tensorflow/stream_executor/platform/default/dso_loader.cc:44] Successfully opened dynamic library libcusparse.so.10\n",
            "2020-09-01 13:14:18.828021: I tensorflow/stream_executor/platform/default/dso_loader.cc:44] Successfully opened dynamic library libcudnn.so.7\n",
            "2020-09-01 13:14:18.828146: I tensorflow/stream_executor/cuda/cuda_gpu_executor.cc:983] successful NUMA node read from SysFS had negative value (-1), but there must be at least one NUMA node, so returning NUMA node zero\n",
            "2020-09-01 13:14:18.828916: I tensorflow/stream_executor/cuda/cuda_gpu_executor.cc:983] successful NUMA node read from SysFS had negative value (-1), but there must be at least one NUMA node, so returning NUMA node zero\n",
            "2020-09-01 13:14:18.829586: I tensorflow/core/common_runtime/gpu/gpu_device.cc:1767] Adding visible gpu devices: 0\n",
            "2020-09-01 13:14:18.829729: I tensorflow/stream_executor/platform/default/dso_loader.cc:44] Successfully opened dynamic library libcudart.so.10.1\n",
            "2020-09-01 13:14:18.831147: I tensorflow/core/common_runtime/gpu/gpu_device.cc:1180] Device interconnect StreamExecutor with strength 1 edge matrix:\n",
            "2020-09-01 13:14:18.831181: I tensorflow/core/common_runtime/gpu/gpu_device.cc:1186]      0 \n",
            "2020-09-01 13:14:18.831198: I tensorflow/core/common_runtime/gpu/gpu_device.cc:1199] 0:   N \n",
            "2020-09-01 13:14:18.831347: I tensorflow/stream_executor/cuda/cuda_gpu_executor.cc:983] successful NUMA node read from SysFS had negative value (-1), but there must be at least one NUMA node, so returning NUMA node zero\n",
            "2020-09-01 13:14:18.832129: I tensorflow/stream_executor/cuda/cuda_gpu_executor.cc:983] successful NUMA node read from SysFS had negative value (-1), but there must be at least one NUMA node, so returning NUMA node zero\n",
            "2020-09-01 13:14:18.832842: W tensorflow/core/common_runtime/gpu/gpu_bfc_allocator.cc:39] Overriding allow_growth setting because the TF_FORCE_GPU_ALLOW_GROWTH environment variable is set. Original config value was 0.\n",
            "2020-09-01 13:14:18.832898: I tensorflow/core/common_runtime/gpu/gpu_device.cc:1325] Created TensorFlow device (/job:localhost/replica:0/task:0/device:GPU:0 with 10805 MB memory) -> physical GPU (device: 0, name: Tesla K80, pci bus id: 0000:00:04.0, compute capability: 3.7)\n",
            "Traceback (most recent call last):\n",
            "  File \"/tensorflow-1.15.2/python3.6/tensorflow_core/python/client/session.py\", line 1365, in _do_call\n",
            "    return fn(*args)\n",
            "  File \"/tensorflow-1.15.2/python3.6/tensorflow_core/python/client/session.py\", line 1350, in _run_fn\n",
            "    target_list, run_metadata)\n",
            "  File \"/tensorflow-1.15.2/python3.6/tensorflow_core/python/client/session.py\", line 1443, in _call_tf_sessionrun\n",
            "    run_metadata)\n",
            "tensorflow.python.framework.errors_impl.FailedPreconditionError: Error while reading resource variable pyramid_classification/Variable from Container: localhost. This could mean that the variable was uninitialized. Not found: Resource localhost/pyramid_classification/Variable/N10tensorflow3VarE does not exist.\n",
            "\t [[{{node pyramid_classification/ReadVariableOp}}]]\n",
            "\n",
            "During handling of the above exception, another exception occurred:\n",
            "\n",
            "Traceback (most recent call last):\n",
            "  File \"/content/ije_retinanet/image_inference_write.py\", line 47, in <module>\n",
            "    model = models.load_model(args[\"model\"], backbone_name='resnet50')\n",
            "  File \"/usr/local/lib/python3.6/dist-packages/keras_retinanet/models/__init__.py\", line 87, in load_model\n",
            "    return keras.models.load_model(filepath, custom_objects=backbone(backbone_name).custom_objects)\n",
            "  File \"/tensorflow-1.15.2/python3.6/keras/engine/saving.py\", line 492, in load_wrapper\n",
            "    return load_function(*args, **kwargs)\n",
            "  File \"/tensorflow-1.15.2/python3.6/keras/engine/saving.py\", line 584, in load_model\n",
            "    model = _deserialize_model(h5dict, custom_objects, compile)\n",
            "  File \"/tensorflow-1.15.2/python3.6/keras/engine/saving.py\", line 336, in _deserialize_model\n",
            "    K.batch_set_value(weight_value_tuples)\n",
            "  File \"/tensorflow-1.15.2/python3.6/keras/backend/tensorflow_backend.py\", line 2960, in batch_set_value\n",
            "    tf_keras_backend.batch_set_value(tuples)\n",
            "  File \"/tensorflow-1.15.2/python3.6/tensorflow_core/python/keras/backend.py\", line 3259, in batch_set_value\n",
            "    get_session().run(assign_ops, feed_dict=feed_dict)\n",
            "  File \"/tensorflow-1.15.2/python3.6/tensorflow_core/python/keras/backend.py\", line 486, in get_session\n",
            "    _initialize_variables(session)\n",
            "  File \"/tensorflow-1.15.2/python3.6/tensorflow_core/python/keras/backend.py\", line 910, in _initialize_variables\n",
            "    session.run(variables_module.variables_initializer(uninitialized_vars))\n",
            "  File \"/tensorflow-1.15.2/python3.6/tensorflow_core/python/client/session.py\", line 956, in run\n",
            "    run_metadata_ptr)\n",
            "  File \"/tensorflow-1.15.2/python3.6/tensorflow_core/python/client/session.py\", line 1180, in _run\n",
            "    feed_dict_tensor, options, run_metadata)\n",
            "  File \"/tensorflow-1.15.2/python3.6/tensorflow_core/python/client/session.py\", line 1359, in _do_run\n",
            "    run_metadata)\n",
            "  File \"/tensorflow-1.15.2/python3.6/tensorflow_core/python/client/session.py\", line 1384, in _do_call\n",
            "    raise type(e)(node_def, op, message)\n",
            "tensorflow.python.framework.errors_impl.FailedPreconditionError: Error while reading resource variable pyramid_classification/Variable from Container: localhost. This could mean that the variable was uninitialized. Not found: Resource localhost/pyramid_classification/Variable/N10tensorflow3VarE does not exist.\n",
            "\t [[node pyramid_classification/ReadVariableOp (defined at tensorflow-1.15.2/python3.6/tensorflow_core/python/framework/ops.py:1748) ]]\n",
            "\n",
            "Original stack trace for 'pyramid_classification/ReadVariableOp':\n",
            "  File \"content/ije_retinanet/image_inference_write.py\", line 47, in <module>\n",
            "    model = models.load_model(args[\"model\"], backbone_name='resnet50')\n",
            "  File \"usr/local/lib/python3.6/dist-packages/keras_retinanet/models/__init__.py\", line 87, in load_model\n",
            "    return keras.models.load_model(filepath, custom_objects=backbone(backbone_name).custom_objects)\n",
            "  File \"tensorflow-1.15.2/python3.6/keras/engine/saving.py\", line 492, in load_wrapper\n",
            "    return load_function(*args, **kwargs)\n",
            "  File \"tensorflow-1.15.2/python3.6/keras/engine/saving.py\", line 584, in load_model\n",
            "    model = _deserialize_model(h5dict, custom_objects, compile)\n",
            "  File \"tensorflow-1.15.2/python3.6/keras/engine/saving.py\", line 274, in _deserialize_model\n",
            "    model = model_from_config(model_config, custom_objects=custom_objects)\n",
            "  File \"tensorflow-1.15.2/python3.6/keras/engine/saving.py\", line 627, in model_from_config\n",
            "    return deserialize(config, custom_objects=custom_objects)\n",
            "  File \"tensorflow-1.15.2/python3.6/keras/layers/__init__.py\", line 168, in deserialize\n",
            "    printable_module_name='layer')\n",
            "  File \"tensorflow-1.15.2/python3.6/keras/utils/generic_utils.py\", line 147, in deserialize_keras_object\n",
            "    list(custom_objects.items())))\n",
            "  File \"tensorflow-1.15.2/python3.6/keras/engine/network.py\", line 1056, in from_config\n",
            "    process_layer(layer_data)\n",
            "  File \"tensorflow-1.15.2/python3.6/keras/engine/network.py\", line 1042, in process_layer\n",
            "    custom_objects=custom_objects)\n",
            "  File \"tensorflow-1.15.2/python3.6/keras/layers/__init__.py\", line 168, in deserialize\n",
            "    printable_module_name='layer')\n",
            "  File \"tensorflow-1.15.2/python3.6/keras/utils/generic_utils.py\", line 147, in deserialize_keras_object\n",
            "    list(custom_objects.items())))\n",
            "  File \"tensorflow-1.15.2/python3.6/keras/engine/network.py\", line 1075, in from_config\n",
            "    process_node(layer, node_data)\n",
            "  File \"tensorflow-1.15.2/python3.6/keras/engine/network.py\", line 1025, in process_node\n",
            "    layer(unpack_singleton(input_tensors), **kwargs)\n",
            "  File \"tensorflow-1.15.2/python3.6/keras/engine/base_layer.py\", line 463, in __call__\n",
            "    self.build(unpack_singleton(input_shapes))\n",
            "  File \"tensorflow-1.15.2/python3.6/keras/layers/convolutional.py\", line 147, in build\n",
            "    constraint=self.bias_constraint)\n",
            "  File \"tensorflow-1.15.2/python3.6/keras/engine/base_layer.py\", line 279, in add_weight\n",
            "    weight = K.variable(initializer(shape, dtype=dtype),\n",
            "  File \"usr/local/lib/python3.6/dist-packages/keras_retinanet/initializers.py\", line 37, in __call__\n",
            "    result = K.ones(shape, dtype=dtype) * -math.log((1 - self.probability) / self.probability)\n",
            "  File \"tensorflow-1.15.2/python3.6/tensorflow_core/python/ops/variables.py\", line 1079, in _run_op\n",
            "    return tensor_oper(a.value(), *args, **kwargs)\n",
            "  File \"tensorflow-1.15.2/python3.6/tensorflow_core/python/ops/resource_variable_ops.py\", line 524, in value\n",
            "    return self._read_variable_op()\n",
            "  File \"tensorflow-1.15.2/python3.6/tensorflow_core/python/ops/resource_variable_ops.py\", line 608, in _read_variable_op\n",
            "    self._dtype)\n",
            "  File \"tensorflow-1.15.2/python3.6/tensorflow_core/python/ops/gen_resource_variable_ops.py\", line 587, in read_variable_op\n",
            "    \"ReadVariableOp\", resource=resource, dtype=dtype, name=name)\n",
            "  File \"tensorflow-1.15.2/python3.6/tensorflow_core/python/framework/op_def_library.py\", line 794, in _apply_op_helper\n",
            "    op_def=op_def)\n",
            "  File \"tensorflow-1.15.2/python3.6/tensorflow_core/python/util/deprecation.py\", line 507, in new_func\n",
            "    return func(*args, **kwargs)\n",
            "  File \"tensorflow-1.15.2/python3.6/tensorflow_core/python/framework/ops.py\", line 3357, in create_op\n",
            "    attrs, op_def, compute_device)\n",
            "  File \"tensorflow-1.15.2/python3.6/tensorflow_core/python/framework/ops.py\", line 3426, in _create_op_internal\n",
            "    op_def=op_def)\n",
            "  File \"tensorflow-1.15.2/python3.6/tensorflow_core/python/framework/ops.py\", line 1748, in __init__\n",
            "    self._traceback = tf_stack.extract_stack()\n",
            "\n"
          ],
          "name": "stdout"
        }
      ]
    },
    {
      "cell_type": "code",
      "metadata": {
        "id": "N-kI-MqqHyyb",
        "colab_type": "code",
        "colab": {
          "base_uri": "https://localhost:8080/",
          "height": 238
        },
        "outputId": "8dc73eb1-1749-47cf-8e36-7e951a7cc4de"
      },
      "source": [
        "# combine all csv files into one\n",
        "import glob\n",
        "import pandas as pd\n",
        "\n",
        "columns = ['path', 'confidence' , 'ymin', 'xmin', 'ymax', 'xmax', 'class']\n",
        "df_list = [pd.read_csv(csv, names=columns) for csv in glob.glob(f'{out_dir}/*.csv')]\n",
        "df_final = pd.concat(df_list)\n",
        "df_final.to_csv(f'{drive_dir}/out.csv', index=False)\n",
        "\n",
        "display(df_final['class'].value_counts(), df_final.head())\n"
      ],
      "execution_count": null,
      "outputs": [
        {
          "output_type": "display_data",
          "data": {
            "text/plain": [
              "Pedestrian    7\n",
              "Name: class, dtype: int64"
            ]
          },
          "metadata": {
            "tags": []
          }
        },
        {
          "output_type": "display_data",
          "data": {
            "text/html": [
              "<div>\n",
              "<style scoped>\n",
              "    .dataframe tbody tr th:only-of-type {\n",
              "        vertical-align: middle;\n",
              "    }\n",
              "\n",
              "    .dataframe tbody tr th {\n",
              "        vertical-align: top;\n",
              "    }\n",
              "\n",
              "    .dataframe thead th {\n",
              "        text-align: right;\n",
              "    }\n",
              "</style>\n",
              "<table border=\"1\" class=\"dataframe\">\n",
              "  <thead>\n",
              "    <tr style=\"text-align: right;\">\n",
              "      <th></th>\n",
              "      <th>path</th>\n",
              "      <th>confidence</th>\n",
              "      <th>ymin</th>\n",
              "      <th>xmin</th>\n",
              "      <th>ymax</th>\n",
              "      <th>xmax</th>\n",
              "      <th>class</th>\n",
              "    </tr>\n",
              "  </thead>\n",
              "  <tbody>\n",
              "    <tr>\n",
              "      <th>0</th>\n",
              "      <td>/content/drive/My Drive/Social Distancing Proj...</td>\n",
              "      <td>0.709590</td>\n",
              "      <td>37.841354</td>\n",
              "      <td>103.900610</td>\n",
              "      <td>45.567043</td>\n",
              "      <td>111.32725</td>\n",
              "      <td>Pedestrian</td>\n",
              "    </tr>\n",
              "    <tr>\n",
              "      <th>0</th>\n",
              "      <td>/content/drive/My Drive/Social Distancing Proj...</td>\n",
              "      <td>0.679012</td>\n",
              "      <td>148.929870</td>\n",
              "      <td>190.937230</td>\n",
              "      <td>161.328190</td>\n",
              "      <td>199.43745</td>\n",
              "      <td>Pedestrian</td>\n",
              "    </tr>\n",
              "    <tr>\n",
              "      <th>0</th>\n",
              "      <td>/content/drive/My Drive/Social Distancing Proj...</td>\n",
              "      <td>0.621681</td>\n",
              "      <td>92.977260</td>\n",
              "      <td>131.157230</td>\n",
              "      <td>105.284950</td>\n",
              "      <td>138.25255</td>\n",
              "      <td>Pedestrian</td>\n",
              "    </tr>\n",
              "    <tr>\n",
              "      <th>0</th>\n",
              "      <td>/content/drive/My Drive/Social Distancing Proj...</td>\n",
              "      <td>0.744258</td>\n",
              "      <td>189.152680</td>\n",
              "      <td>37.463245</td>\n",
              "      <td>197.917970</td>\n",
              "      <td>46.43148</td>\n",
              "      <td>Pedestrian</td>\n",
              "    </tr>\n",
              "    <tr>\n",
              "      <th>0</th>\n",
              "      <td>/content/drive/My Drive/Social Distancing Proj...</td>\n",
              "      <td>0.619614</td>\n",
              "      <td>65.782585</td>\n",
              "      <td>136.130340</td>\n",
              "      <td>72.416190</td>\n",
              "      <td>144.08875</td>\n",
              "      <td>Pedestrian</td>\n",
              "    </tr>\n",
              "  </tbody>\n",
              "</table>\n",
              "</div>"
            ],
            "text/plain": [
              "                                                path  ...       class\n",
              "0  /content/drive/My Drive/Social Distancing Proj...  ...  Pedestrian\n",
              "0  /content/drive/My Drive/Social Distancing Proj...  ...  Pedestrian\n",
              "0  /content/drive/My Drive/Social Distancing Proj...  ...  Pedestrian\n",
              "0  /content/drive/My Drive/Social Distancing Proj...  ...  Pedestrian\n",
              "0  /content/drive/My Drive/Social Distancing Proj...  ...  Pedestrian\n",
              "\n",
              "[5 rows x 7 columns]"
            ]
          },
          "metadata": {
            "tags": []
          }
        }
      ]
    },
    {
      "cell_type": "markdown",
      "metadata": {
        "id": "zVIpeKcsVXas",
        "colab_type": "text"
      },
      "source": [
        "## Generate detections on test images"
      ]
    },
    {
      "cell_type": "code",
      "metadata": {
        "id": "69d-negJSEBe",
        "colab_type": "code",
        "colab": {
          "base_uri": "https://localhost:8080/",
          "height": 1000
        },
        "outputId": "8511fd92-b05d-4a37-98d2-f351779cd560"
      },
      "source": [
        "!mkdir '{out_dir}/imgs'\n",
        "\n",
        "# generate detections on images\n",
        "!python '{base_dir}/ije_retinanet/image_inference_print.py' \\\n",
        "-i '{test_img_dir}' \\\n",
        "-t 0.6 \\\n",
        "-m  '{inference_model}' \\\n",
        "-o '{out_dir}/imgs'"
      ],
      "execution_count": null,
      "outputs": [
        {
          "output_type": "stream",
          "text": [
            "mkdir: cannot create directory ‘/content/drive/My Drive/Social Distancing Project/Satellite Images/DigitalGlobe (Samples)/Tripoli/Tripoli_Map-Ready_Ortho_30cm/055675519050/055675519050_01_P001_MUL/JPEG//output/imgs’: File exists\n",
            "Using TensorFlow backend.\n",
            "WARNING:tensorflow:From /tensorflow-1.15.2/python3.6/tensorflow_core/python/ops/resource_variable_ops.py:1630: calling BaseResourceVariable.__init__ (from tensorflow.python.ops.resource_variable_ops) with constraint is deprecated and will be removed in a future version.\n",
            "Instructions for updating:\n",
            "If using Keras pass *_constraint arguments to layers.\n",
            "WARNING:tensorflow:From /tensorflow-1.15.2/python3.6/keras/backend/tensorflow_backend.py:4070: The name tf.nn.max_pool is deprecated. Please use tf.nn.max_pool2d instead.\n",
            "\n",
            "WARNING:tensorflow:From /usr/local/lib/python3.6/dist-packages/keras_retinanet/backend/tensorflow_backend.py:117: where (from tensorflow.python.ops.array_ops) is deprecated and will be removed in a future version.\n",
            "Instructions for updating:\n",
            "Use tf.where in 2.0, which has the same broadcast rule as np.where\n",
            "2020-09-01 12:49:34.072934: I tensorflow/stream_executor/platform/default/dso_loader.cc:44] Successfully opened dynamic library libcuda.so.1\n",
            "2020-09-01 12:49:34.090169: I tensorflow/stream_executor/cuda/cuda_gpu_executor.cc:983] successful NUMA node read from SysFS had negative value (-1), but there must be at least one NUMA node, so returning NUMA node zero\n",
            "2020-09-01 12:49:34.090937: I tensorflow/core/common_runtime/gpu/gpu_device.cc:1639] Found device 0 with properties: \n",
            "name: Tesla K80 major: 3 minor: 7 memoryClockRate(GHz): 0.8235\n",
            "pciBusID: 0000:00:04.0\n",
            "2020-09-01 12:49:34.091199: I tensorflow/stream_executor/platform/default/dso_loader.cc:44] Successfully opened dynamic library libcudart.so.10.1\n",
            "2020-09-01 12:49:34.093065: I tensorflow/stream_executor/platform/default/dso_loader.cc:44] Successfully opened dynamic library libcublas.so.10\n",
            "2020-09-01 12:49:34.094786: I tensorflow/stream_executor/platform/default/dso_loader.cc:44] Successfully opened dynamic library libcufft.so.10\n",
            "2020-09-01 12:49:34.095126: I tensorflow/stream_executor/platform/default/dso_loader.cc:44] Successfully opened dynamic library libcurand.so.10\n",
            "2020-09-01 12:49:34.097090: I tensorflow/stream_executor/platform/default/dso_loader.cc:44] Successfully opened dynamic library libcusolver.so.10\n",
            "2020-09-01 12:49:34.098290: I tensorflow/stream_executor/platform/default/dso_loader.cc:44] Successfully opened dynamic library libcusparse.so.10\n",
            "2020-09-01 12:49:34.102270: I tensorflow/stream_executor/platform/default/dso_loader.cc:44] Successfully opened dynamic library libcudnn.so.7\n",
            "2020-09-01 12:49:34.102412: I tensorflow/stream_executor/cuda/cuda_gpu_executor.cc:983] successful NUMA node read from SysFS had negative value (-1), but there must be at least one NUMA node, so returning NUMA node zero\n",
            "2020-09-01 12:49:34.103211: I tensorflow/stream_executor/cuda/cuda_gpu_executor.cc:983] successful NUMA node read from SysFS had negative value (-1), but there must be at least one NUMA node, so returning NUMA node zero\n",
            "2020-09-01 12:49:34.103925: I tensorflow/core/common_runtime/gpu/gpu_device.cc:1767] Adding visible gpu devices: 0\n",
            "2020-09-01 12:49:34.109408: I tensorflow/core/platform/profile_utils/cpu_utils.cc:94] CPU Frequency: 2300000000 Hz\n",
            "2020-09-01 12:49:34.109637: I tensorflow/compiler/xla/service/service.cc:168] XLA service 0xeee4300 initialized for platform Host (this does not guarantee that XLA will be used). Devices:\n",
            "2020-09-01 12:49:34.109696: I tensorflow/compiler/xla/service/service.cc:176]   StreamExecutor device (0): Host, Default Version\n",
            "2020-09-01 12:49:34.162562: I tensorflow/stream_executor/cuda/cuda_gpu_executor.cc:983] successful NUMA node read from SysFS had negative value (-1), but there must be at least one NUMA node, so returning NUMA node zero\n",
            "2020-09-01 12:49:34.163407: I tensorflow/compiler/xla/service/service.cc:168] XLA service 0xeee44c0 initialized for platform CUDA (this does not guarantee that XLA will be used). Devices:\n",
            "2020-09-01 12:49:34.163441: I tensorflow/compiler/xla/service/service.cc:176]   StreamExecutor device (0): Tesla K80, Compute Capability 3.7\n",
            "2020-09-01 12:49:34.163636: I tensorflow/stream_executor/cuda/cuda_gpu_executor.cc:983] successful NUMA node read from SysFS had negative value (-1), but there must be at least one NUMA node, so returning NUMA node zero\n",
            "2020-09-01 12:49:34.164355: I tensorflow/core/common_runtime/gpu/gpu_device.cc:1639] Found device 0 with properties: \n",
            "name: Tesla K80 major: 3 minor: 7 memoryClockRate(GHz): 0.8235\n",
            "pciBusID: 0000:00:04.0\n",
            "2020-09-01 12:49:34.164428: I tensorflow/stream_executor/platform/default/dso_loader.cc:44] Successfully opened dynamic library libcudart.so.10.1\n",
            "2020-09-01 12:49:34.164469: I tensorflow/stream_executor/platform/default/dso_loader.cc:44] Successfully opened dynamic library libcublas.so.10\n",
            "2020-09-01 12:49:34.164509: I tensorflow/stream_executor/platform/default/dso_loader.cc:44] Successfully opened dynamic library libcufft.so.10\n",
            "2020-09-01 12:49:34.164550: I tensorflow/stream_executor/platform/default/dso_loader.cc:44] Successfully opened dynamic library libcurand.so.10\n",
            "2020-09-01 12:49:34.164594: I tensorflow/stream_executor/platform/default/dso_loader.cc:44] Successfully opened dynamic library libcusolver.so.10\n",
            "2020-09-01 12:49:34.164629: I tensorflow/stream_executor/platform/default/dso_loader.cc:44] Successfully opened dynamic library libcusparse.so.10\n",
            "2020-09-01 12:49:34.164680: I tensorflow/stream_executor/platform/default/dso_loader.cc:44] Successfully opened dynamic library libcudnn.so.7\n",
            "2020-09-01 12:49:34.164804: I tensorflow/stream_executor/cuda/cuda_gpu_executor.cc:983] successful NUMA node read from SysFS had negative value (-1), but there must be at least one NUMA node, so returning NUMA node zero\n",
            "2020-09-01 12:49:34.165542: I tensorflow/stream_executor/cuda/cuda_gpu_executor.cc:983] successful NUMA node read from SysFS had negative value (-1), but there must be at least one NUMA node, so returning NUMA node zero\n",
            "2020-09-01 12:49:34.166230: I tensorflow/core/common_runtime/gpu/gpu_device.cc:1767] Adding visible gpu devices: 0\n",
            "2020-09-01 12:49:34.166295: I tensorflow/stream_executor/platform/default/dso_loader.cc:44] Successfully opened dynamic library libcudart.so.10.1\n",
            "2020-09-01 12:49:34.167748: I tensorflow/core/common_runtime/gpu/gpu_device.cc:1180] Device interconnect StreamExecutor with strength 1 edge matrix:\n",
            "2020-09-01 12:49:34.167781: I tensorflow/core/common_runtime/gpu/gpu_device.cc:1186]      0 \n",
            "2020-09-01 12:49:34.167798: I tensorflow/core/common_runtime/gpu/gpu_device.cc:1199] 0:   N \n",
            "2020-09-01 12:49:34.167952: I tensorflow/stream_executor/cuda/cuda_gpu_executor.cc:983] successful NUMA node read from SysFS had negative value (-1), but there must be at least one NUMA node, so returning NUMA node zero\n",
            "2020-09-01 12:49:34.168759: I tensorflow/stream_executor/cuda/cuda_gpu_executor.cc:983] successful NUMA node read from SysFS had negative value (-1), but there must be at least one NUMA node, so returning NUMA node zero\n",
            "2020-09-01 12:49:34.169441: W tensorflow/core/common_runtime/gpu/gpu_bfc_allocator.cc:39] Overriding allow_growth setting because the TF_FORCE_GPU_ALLOW_GROWTH environment variable is set. Original config value was 0.\n",
            "2020-09-01 12:49:34.169494: I tensorflow/core/common_runtime/gpu/gpu_device.cc:1325] Created TensorFlow device (/job:localhost/replica:0/task:0/device:GPU:0 with 10805 MB memory) -> physical GPU (device: 0, name: Tesla K80, pci bus id: 0000:00:04.0, compute capability: 3.7)\n",
            "Traceback (most recent call last):\n",
            "  File \"/tensorflow-1.15.2/python3.6/tensorflow_core/python/client/session.py\", line 1365, in _do_call\n",
            "    return fn(*args)\n",
            "  File \"/tensorflow-1.15.2/python3.6/tensorflow_core/python/client/session.py\", line 1350, in _run_fn\n",
            "    target_list, run_metadata)\n",
            "  File \"/tensorflow-1.15.2/python3.6/tensorflow_core/python/client/session.py\", line 1443, in _call_tf_sessionrun\n",
            "    run_metadata)\n",
            "tensorflow.python.framework.errors_impl.FailedPreconditionError: Error while reading resource variable pyramid_classification/Variable from Container: localhost. This could mean that the variable was uninitialized. Not found: Resource localhost/pyramid_classification/Variable/N10tensorflow3VarE does not exist.\n",
            "\t [[{{node pyramid_classification/ReadVariableOp}}]]\n",
            "\n",
            "During handling of the above exception, another exception occurred:\n",
            "\n",
            "Traceback (most recent call last):\n",
            "  File \"/content/ije_retinanet/image_inference_print.py\", line 40, in <module>\n",
            "    model = models.load_model(args[\"model\"], backbone_name='resnet50')\n",
            "  File \"/usr/local/lib/python3.6/dist-packages/keras_retinanet/models/__init__.py\", line 87, in load_model\n",
            "    return keras.models.load_model(filepath, custom_objects=backbone(backbone_name).custom_objects)\n",
            "  File \"/tensorflow-1.15.2/python3.6/keras/engine/saving.py\", line 492, in load_wrapper\n",
            "    return load_function(*args, **kwargs)\n",
            "  File \"/tensorflow-1.15.2/python3.6/keras/engine/saving.py\", line 584, in load_model\n",
            "    model = _deserialize_model(h5dict, custom_objects, compile)\n",
            "  File \"/tensorflow-1.15.2/python3.6/keras/engine/saving.py\", line 336, in _deserialize_model\n",
            "    K.batch_set_value(weight_value_tuples)\n",
            "  File \"/tensorflow-1.15.2/python3.6/keras/backend/tensorflow_backend.py\", line 2960, in batch_set_value\n",
            "    tf_keras_backend.batch_set_value(tuples)\n",
            "  File \"/tensorflow-1.15.2/python3.6/tensorflow_core/python/keras/backend.py\", line 3259, in batch_set_value\n",
            "    get_session().run(assign_ops, feed_dict=feed_dict)\n",
            "  File \"/tensorflow-1.15.2/python3.6/tensorflow_core/python/keras/backend.py\", line 486, in get_session\n",
            "    _initialize_variables(session)\n",
            "  File \"/tensorflow-1.15.2/python3.6/tensorflow_core/python/keras/backend.py\", line 910, in _initialize_variables\n",
            "    session.run(variables_module.variables_initializer(uninitialized_vars))\n",
            "  File \"/tensorflow-1.15.2/python3.6/tensorflow_core/python/client/session.py\", line 956, in run\n",
            "    run_metadata_ptr)\n",
            "  File \"/tensorflow-1.15.2/python3.6/tensorflow_core/python/client/session.py\", line 1180, in _run\n",
            "    feed_dict_tensor, options, run_metadata)\n",
            "  File \"/tensorflow-1.15.2/python3.6/tensorflow_core/python/client/session.py\", line 1359, in _do_run\n",
            "    run_metadata)\n",
            "  File \"/tensorflow-1.15.2/python3.6/tensorflow_core/python/client/session.py\", line 1384, in _do_call\n",
            "    raise type(e)(node_def, op, message)\n",
            "tensorflow.python.framework.errors_impl.FailedPreconditionError: Error while reading resource variable pyramid_classification/Variable from Container: localhost. This could mean that the variable was uninitialized. Not found: Resource localhost/pyramid_classification/Variable/N10tensorflow3VarE does not exist.\n",
            "\t [[node pyramid_classification/ReadVariableOp (defined at tensorflow-1.15.2/python3.6/tensorflow_core/python/framework/ops.py:1748) ]]\n",
            "\n",
            "Original stack trace for 'pyramid_classification/ReadVariableOp':\n",
            "  File \"content/ije_retinanet/image_inference_print.py\", line 40, in <module>\n",
            "    model = models.load_model(args[\"model\"], backbone_name='resnet50')\n",
            "  File \"usr/local/lib/python3.6/dist-packages/keras_retinanet/models/__init__.py\", line 87, in load_model\n",
            "    return keras.models.load_model(filepath, custom_objects=backbone(backbone_name).custom_objects)\n",
            "  File \"tensorflow-1.15.2/python3.6/keras/engine/saving.py\", line 492, in load_wrapper\n",
            "    return load_function(*args, **kwargs)\n",
            "  File \"tensorflow-1.15.2/python3.6/keras/engine/saving.py\", line 584, in load_model\n",
            "    model = _deserialize_model(h5dict, custom_objects, compile)\n",
            "  File \"tensorflow-1.15.2/python3.6/keras/engine/saving.py\", line 274, in _deserialize_model\n",
            "    model = model_from_config(model_config, custom_objects=custom_objects)\n",
            "  File \"tensorflow-1.15.2/python3.6/keras/engine/saving.py\", line 627, in model_from_config\n",
            "    return deserialize(config, custom_objects=custom_objects)\n",
            "  File \"tensorflow-1.15.2/python3.6/keras/layers/__init__.py\", line 168, in deserialize\n",
            "    printable_module_name='layer')\n",
            "  File \"tensorflow-1.15.2/python3.6/keras/utils/generic_utils.py\", line 147, in deserialize_keras_object\n",
            "    list(custom_objects.items())))\n",
            "  File \"tensorflow-1.15.2/python3.6/keras/engine/network.py\", line 1056, in from_config\n",
            "    process_layer(layer_data)\n",
            "  File \"tensorflow-1.15.2/python3.6/keras/engine/network.py\", line 1042, in process_layer\n",
            "    custom_objects=custom_objects)\n",
            "  File \"tensorflow-1.15.2/python3.6/keras/layers/__init__.py\", line 168, in deserialize\n",
            "    printable_module_name='layer')\n",
            "  File \"tensorflow-1.15.2/python3.6/keras/utils/generic_utils.py\", line 147, in deserialize_keras_object\n",
            "    list(custom_objects.items())))\n",
            "  File \"tensorflow-1.15.2/python3.6/keras/engine/network.py\", line 1075, in from_config\n",
            "    process_node(layer, node_data)\n",
            "  File \"tensorflow-1.15.2/python3.6/keras/engine/network.py\", line 1025, in process_node\n",
            "    layer(unpack_singleton(input_tensors), **kwargs)\n",
            "  File \"tensorflow-1.15.2/python3.6/keras/engine/base_layer.py\", line 463, in __call__\n",
            "    self.build(unpack_singleton(input_shapes))\n",
            "  File \"tensorflow-1.15.2/python3.6/keras/layers/convolutional.py\", line 147, in build\n",
            "    constraint=self.bias_constraint)\n",
            "  File \"tensorflow-1.15.2/python3.6/keras/engine/base_layer.py\", line 279, in add_weight\n",
            "    weight = K.variable(initializer(shape, dtype=dtype),\n",
            "  File \"usr/local/lib/python3.6/dist-packages/keras_retinanet/initializers.py\", line 37, in __call__\n",
            "    result = K.ones(shape, dtype=dtype) * -math.log((1 - self.probability) / self.probability)\n",
            "  File \"tensorflow-1.15.2/python3.6/tensorflow_core/python/ops/variables.py\", line 1079, in _run_op\n",
            "    return tensor_oper(a.value(), *args, **kwargs)\n",
            "  File \"tensorflow-1.15.2/python3.6/tensorflow_core/python/ops/resource_variable_ops.py\", line 524, in value\n",
            "    return self._read_variable_op()\n",
            "  File \"tensorflow-1.15.2/python3.6/tensorflow_core/python/ops/resource_variable_ops.py\", line 608, in _read_variable_op\n",
            "    self._dtype)\n",
            "  File \"tensorflow-1.15.2/python3.6/tensorflow_core/python/ops/gen_resource_variable_ops.py\", line 587, in read_variable_op\n",
            "    \"ReadVariableOp\", resource=resource, dtype=dtype, name=name)\n",
            "  File \"tensorflow-1.15.2/python3.6/tensorflow_core/python/framework/op_def_library.py\", line 794, in _apply_op_helper\n",
            "    op_def=op_def)\n",
            "  File \"tensorflow-1.15.2/python3.6/tensorflow_core/python/util/deprecation.py\", line 507, in new_func\n",
            "    return func(*args, **kwargs)\n",
            "  File \"tensorflow-1.15.2/python3.6/tensorflow_core/python/framework/ops.py\", line 3357, in create_op\n",
            "    attrs, op_def, compute_device)\n",
            "  File \"tensorflow-1.15.2/python3.6/tensorflow_core/python/framework/ops.py\", line 3426, in _create_op_internal\n",
            "    op_def=op_def)\n",
            "  File \"tensorflow-1.15.2/python3.6/tensorflow_core/python/framework/ops.py\", line 1748, in __init__\n",
            "    self._traceback = tf_stack.extract_stack()\n",
            "\n"
          ],
          "name": "stdout"
        }
      ]
    }
  ]
}