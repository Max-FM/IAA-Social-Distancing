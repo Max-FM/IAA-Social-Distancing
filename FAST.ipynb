{
  "nbformat": 4,
  "nbformat_minor": 0,
  "metadata": {
    "colab": {
      "name": "FAST.ipynb",
      "provenance": [],
      "toc_visible": true,
      "authorship_tag": "ABX9TyPehxOJxXzUrhH0xFKDF0Dc",
      "include_colab_link": true
    },
    "kernelspec": {
      "name": "python3",
      "display_name": "Python 3"
    }
  },
  "cells": [
    {
      "cell_type": "markdown",
      "metadata": {
        "id": "view-in-github",
        "colab_type": "text"
      },
      "source": [
        "<a href=\"https://colab.research.google.com/github/Max-FM/IAA-Social-Distancing/blob/master/FAST.ipynb\" target=\"_parent\"><img src=\"https://colab.research.google.com/assets/colab-badge.svg\" alt=\"Open In Colab\"/></a>"
      ]
    },
    {
      "cell_type": "markdown",
      "metadata": {
        "id": "BUzVnrgQCmWu",
        "colab_type": "text"
      },
      "source": [
        "#Applying FAST to images\n",
        "\n",
        "An edited version of the code from [this](https://opencv-python-tutroals.readthedocs.io/en/latest/py_tutorials/py_feature2d/py_fast/py_fast.html) OpenCV-Python tutorial, such that the kernel no longer crashes."
      ]
    },
    {
      "cell_type": "code",
      "metadata": {
        "id": "3LLiEw3qCtfr",
        "colab_type": "code",
        "colab": {}
      },
      "source": [
        "import numpy as np\n",
        "import cv2\n",
        "from matplotlib import pyplot as plt\n",
        "from google.colab.patches import cv2_imshow"
      ],
      "execution_count": null,
      "outputs": []
    },
    {
      "cell_type": "markdown",
      "metadata": {
        "id": "AW-KZoHhPR4F",
        "colab_type": "text"
      },
      "source": [
        "Upload desired images to session storage or create a new cell and mount to Google Drive.\n"
      ]
    },
    {
      "cell_type": "code",
      "metadata": {
        "id": "tHmxNDbsjDRd",
        "colab_type": "code",
        "colab": {
          "base_uri": "https://localhost:8080/",
          "height": 119
        },
        "outputId": "5ff7e14d-b24d-4961-e1f2-eb90ca140991"
      },
      "source": [
        "path_to_image = 'Insert filepath to image here'\n",
        "\n",
        "img = cv2.imread(path_to_image, 0)\n",
        "\n",
        "# Initiate FAST object with default values\n",
        "fast = cv2.FastFeatureDetector_create(threshold=25)\n",
        "\n",
        "# find and draw the keypoints\n",
        "kp = fast.detect(img,None)\n",
        "img2 = cv2.drawKeypoints(img, kp, None, color=(255,0,0))\n",
        "\n",
        "# Print all default params\n",
        "print(\"Threshold: \", fast.getThreshold())\n",
        "print(\"nonmaxSuppression: \", fast.getNonmaxSuppression())\n",
        "print(\"neighborhood: \", fast.getType())\n",
        "print(\"Total Keypoints with nonmaxSuppression: \", len(kp))\n",
        "cv2.imwrite('fast_true.jpg',img2)\n",
        "\n",
        "# Disable nonmaxSuppression\n",
        "fast.setNonmaxSuppression(0)\n",
        "kp = fast.detect(img,None)\n",
        "print(\"Total Keypoints without nonmaxSuppression: \", len(kp))\n",
        "img3 = cv2.drawKeypoints(img, kp, None, color=(255,0,0))\n",
        "cv2.imwrite('fast_false.jpg',img3)"
      ],
      "execution_count": null,
      "outputs": [
        {
          "output_type": "stream",
          "text": [
            "Threshold:  25\n",
            "nonmaxSuppression:  True\n",
            "neighborhood:  2\n",
            "Total Keypoints with nonmaxSuppression:  1103\n",
            "Total Keypoints without nonmaxSuppression:  5926\n"
          ],
          "name": "stdout"
        },
        {
          "output_type": "execute_result",
          "data": {
            "text/plain": [
              "True"
            ]
          },
          "metadata": {
            "tags": []
          },
          "execution_count": 10
        }
      ]
    }
  ]
}